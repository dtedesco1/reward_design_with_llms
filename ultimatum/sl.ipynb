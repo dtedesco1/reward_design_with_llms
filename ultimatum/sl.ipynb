{
 "cells": [
  {
   "cell_type": "code",
   "execution_count": 8,
   "id": "1c12fe03",
   "metadata": {},
   "outputs": [],
   "source": [
    "import torch\n",
    "import torch.nn as nn\n",
    "import torch.nn.functional as F\n",
    "import torch.optim as optim\n",
    "import torch.utils.data as data\n",
    "\n",
    "from tqdm.notebook import trange, tqdm\n",
    "import matplotlib.pyplot as plt\n",
    "import numpy as np\n",
    "import pickle as pkl\n",
    "\n",
    "import copy\n",
    "import random\n",
    "import time\n",
    "# credits to: https://colab.research.google.com/github/bentrevett/pytorch-image-classification/blob/master/1_mlp.ipynb#scrollTo=p-gtfzafREwc"
   ]
  },
  {
   "cell_type": "code",
   "execution_count": 9,
   "id": "bf023cd1",
   "metadata": {},
   "outputs": [],
   "source": [
    "class MLP(nn.Module):\n",
    "    def __init__(self, input_dim, output_dim):\n",
    "        super().__init__()\n",
    "\n",
    "        self.input_fc = nn.Linear(input_dim, 32)\n",
    "        self.hidden_fc = nn.Linear(32, 32)\n",
    "        self.output_fc = nn.Linear(32, output_dim)\n",
    "\n",
    "    def forward(self, x):\n",
    "\n",
    "        # x = [batch size, input_size]\n",
    "\n",
    "        batch_size = x.shape[0]\n",
    "\n",
    "        h_1 = F.relu(self.input_fc(x))\n",
    "\n",
    "        # h_1 = [batch size, 250]\n",
    "\n",
    "        h_2 = F.relu(self.hidden_fc(h_1))\n",
    "\n",
    "        # h_2 = [batch size, 100]\n",
    "\n",
    "        y_pred = self.output_fc(h_2)\n",
    "\n",
    "        # y_pred = [batch size, output dim]\n",
    "\n",
    "        return y_pred"
   ]
  },
  {
   "cell_type": "code",
   "execution_count": 10,
   "id": "8c6cb7be",
   "metadata": {
    "scrolled": true
   },
   "outputs": [],
   "source": [
    "def calculate_accuracy(y_pred, y):\n",
    "    top_pred = y_pred.argmax(1, keepdim=True)\n",
    "    correct = top_pred.eq(y.view_as(top_pred)).sum()\n",
    "    acc = correct.float() / y.shape[0]\n",
    "    return acc\n",
    "\n",
    "\n",
    "def evaluate(model, iterator, criterion):\n",
    "\n",
    "    epoch_loss = []\n",
    "    epoch_acc = []\n",
    "    to_save = []\n",
    "\n",
    "    model.eval()\n",
    "\n",
    "    with torch.no_grad():\n",
    "\n",
    "        for (x, y) in tqdm(iterator, desc=\"Evaluating\", leave=False):\n",
    "         \n",
    "            x = torch.tensor([x]).float()\n",
    "\n",
    "            y_pred = model(x)\n",
    "            \n",
    "            save_lst = x[0].tolist() + [np.argmax(y_pred[0].tolist())]\n",
    "            \n",
    "            to_save.append(save_lst)\n",
    "\n",
    "            loss = criterion(y_pred, y.long())\n",
    "\n",
    "            acc = calculate_accuracy(y_pred, y)\n",
    "\n",
    "            epoch_loss += [loss.item()]\n",
    "            epoch_acc += [acc.item()]\n",
    "\n",
    "    assert len(to_save) == 50\n",
    "    return np.mean(epoch_loss), np.mean(epoch_acc), np.std(epoch_acc), to_save\n",
    "\n",
    "\n",
    "def train(model, iterator, optimizer, criterion):\n",
    "\n",
    "    epoch_loss = 0\n",
    "    epoch_acc = 0\n",
    "\n",
    "    model.train()\n",
    "\n",
    "    for (x, y) in tqdm(iterator, desc=\"Training\", leave=False):\n",
    "        \n",
    "        #x = torch.stack(x).float()\n",
    "        x = torch.tensor([x]).float()\n",
    "        \n",
    "        optimizer.zero_grad()\n",
    "\n",
    "        y_pred = model(x)\n",
    "                \n",
    "        loss = criterion(y_pred, y.long())\n",
    "\n",
    "        acc = calculate_accuracy(y_pred, y)\n",
    "\n",
    "        loss.backward()\n",
    "\n",
    "        optimizer.step()\n",
    "\n",
    "        epoch_loss += loss.item()\n",
    "        epoch_acc += acc.item()\n",
    "\n",
    "    return epoch_loss / len(iterator), epoch_acc / len(iterator)\n",
    "\n",
    "def main(train_iterator, test_iterator):\n",
    "    INPUT_DIM = 2\n",
    "    OUTPUT_DIM = 2\n",
    "    model = MLP(INPUT_DIM, OUTPUT_DIM)\n",
    "    criterion = nn.CrossEntropyLoss()\n",
    "    optimizer = optim.Adam(model.parameters())\n",
    "    \n",
    "    EPOCHS = 5\n",
    "    best_valid_loss = float('inf')\n",
    "    best_to_save = []\n",
    "    best_valid_acc_std = None\n",
    "    best_train_acc = 0\n",
    "    for epoch in trange(EPOCHS):\n",
    "        train_loss, train_acc = train(model, train_iterator, optimizer, criterion)\n",
    "        valid_loss, valid_acc, valid_acc_std, to_save = evaluate(model, test_iterator, criterion)\n",
    "\n",
    "        if valid_loss < best_valid_loss:\n",
    "            best_valid_loss = valid_loss\n",
    "            best_to_save = to_save\n",
    "            best_train_acc = train_acc\n",
    "            best_valid_acc_std = (valid_acc, valid_acc_std)\n",
    "            print(\"best!\")\n",
    "\n",
    "        print(f'Epoch: {epoch+1:02}')\n",
    "        print(f'\\tTrain Loss: {train_loss:.3f} | Train Acc: {train_acc*100:.2f}%')\n",
    "        print(f'\\t Val. Loss: {valid_loss:.3f} |  Val. Acc: {valid_acc*100:.2f}% | Val. Std {valid_acc_std}')\n",
    "\n",
    "    print(f'\\t Val. Loss: {best_valid_loss:.3f} |  Val. Acc: {best_valid_acc_std[0]} | Val. Std {best_valid_acc_std[1]} | Train Acc: {best_train_acc:.3f}')\n",
    "    return np.array(to_save) "
   ]
  },
  {
   "cell_type": "code",
   "execution_count": 19,
   "id": "53975ad8",
   "metadata": {
    "scrolled": false
   },
   "outputs": [
    {
     "data": {
      "application/json": {
       "ascii": false,
       "bar_format": null,
       "colour": null,
       "elapsed": 0.009821176528930664,
       "initial": 0,
       "n": 0,
       "ncols": null,
       "nrows": 49,
       "postfix": null,
       "prefix": "",
       "rate": null,
       "total": 5,
       "unit": "it",
       "unit_divisor": 1000,
       "unit_scale": false
      },
      "application/vnd.jupyter.widget-view+json": {
       "model_id": "0ad21519e8704893a12d46a346570911",
       "version_major": 2,
       "version_minor": 0
      },
      "text/plain": [
       "  0%|          | 0/5 [00:00<?, ?it/s]"
      ]
     },
     "metadata": {},
     "output_type": "display_data"
    },
    {
     "data": {
      "application/json": {
       "ascii": false,
       "bar_format": null,
       "colour": null,
       "elapsed": 0.00958704948425293,
       "initial": 0,
       "n": 0,
       "ncols": null,
       "nrows": 49,
       "postfix": null,
       "prefix": "Training",
       "rate": null,
       "total": 10,
       "unit": "it",
       "unit_divisor": 1000,
       "unit_scale": false
      },
      "application/vnd.jupyter.widget-view+json": {
       "model_id": "50ef4a4c193e4dfe8616c5d98fdba76d",
       "version_major": 2,
       "version_minor": 0
      },
      "text/plain": [
       "Training:   0%|          | 0/10 [00:00<?, ?it/s]"
      ]
     },
     "metadata": {},
     "output_type": "display_data"
    },
    {
     "data": {
      "application/json": {
       "ascii": false,
       "bar_format": null,
       "colour": null,
       "elapsed": 0.008825063705444336,
       "initial": 0,
       "n": 0,
       "ncols": null,
       "nrows": 49,
       "postfix": null,
       "prefix": "Evaluating",
       "rate": null,
       "total": 50,
       "unit": "it",
       "unit_divisor": 1000,
       "unit_scale": false
      },
      "application/vnd.jupyter.widget-view+json": {
       "model_id": "508668b63b0341298d751f7911f9c0e7",
       "version_major": 2,
       "version_minor": 0
      },
      "text/plain": [
       "Evaluating:   0%|          | 0/50 [00:00<?, ?it/s]"
      ]
     },
     "metadata": {},
     "output_type": "display_data"
    },
    {
     "name": "stdout",
     "output_type": "stream",
     "text": [
      "best!\n",
      "Epoch: 01\n",
      "\tTrain Loss: 0.673 | Train Acc: 70.00%\n",
      "\t Val. Loss: 0.624 |  Val. Acc: 100.00% | Val. Std 0.0\n"
     ]
    },
    {
     "data": {
      "application/json": {
       "ascii": false,
       "bar_format": null,
       "colour": null,
       "elapsed": 0.008285760879516602,
       "initial": 0,
       "n": 0,
       "ncols": null,
       "nrows": 49,
       "postfix": null,
       "prefix": "Training",
       "rate": null,
       "total": 10,
       "unit": "it",
       "unit_divisor": 1000,
       "unit_scale": false
      },
      "application/vnd.jupyter.widget-view+json": {
       "model_id": "742512c1f9a94345958872c523d84d3e",
       "version_major": 2,
       "version_minor": 0
      },
      "text/plain": [
       "Training:   0%|          | 0/10 [00:00<?, ?it/s]"
      ]
     },
     "metadata": {},
     "output_type": "display_data"
    },
    {
     "data": {
      "application/json": {
       "ascii": false,
       "bar_format": null,
       "colour": null,
       "elapsed": 0.007627964019775391,
       "initial": 0,
       "n": 0,
       "ncols": null,
       "nrows": 49,
       "postfix": null,
       "prefix": "Evaluating",
       "rate": null,
       "total": 50,
       "unit": "it",
       "unit_divisor": 1000,
       "unit_scale": false
      },
      "application/vnd.jupyter.widget-view+json": {
       "model_id": "dabaf70ecd66459ebdd4e16bc5fb3545",
       "version_major": 2,
       "version_minor": 0
      },
      "text/plain": [
       "Evaluating:   0%|          | 0/50 [00:00<?, ?it/s]"
      ]
     },
     "metadata": {},
     "output_type": "display_data"
    },
    {
     "name": "stdout",
     "output_type": "stream",
     "text": [
      "best!\n",
      "Epoch: 02\n",
      "\tTrain Loss: 0.583 | Train Acc: 100.00%\n",
      "\t Val. Loss: 0.540 |  Val. Acc: 100.00% | Val. Std 0.0\n"
     ]
    },
    {
     "data": {
      "application/json": {
       "ascii": false,
       "bar_format": null,
       "colour": null,
       "elapsed": 0.006715059280395508,
       "initial": 0,
       "n": 0,
       "ncols": null,
       "nrows": 49,
       "postfix": null,
       "prefix": "Training",
       "rate": null,
       "total": 10,
       "unit": "it",
       "unit_divisor": 1000,
       "unit_scale": false
      },
      "application/vnd.jupyter.widget-view+json": {
       "model_id": "356e62013ceb420bba77df9f6133c55e",
       "version_major": 2,
       "version_minor": 0
      },
      "text/plain": [
       "Training:   0%|          | 0/10 [00:00<?, ?it/s]"
      ]
     },
     "metadata": {},
     "output_type": "display_data"
    },
    {
     "data": {
      "application/json": {
       "ascii": false,
       "bar_format": null,
       "colour": null,
       "elapsed": 0.007059812545776367,
       "initial": 0,
       "n": 0,
       "ncols": null,
       "nrows": 49,
       "postfix": null,
       "prefix": "Evaluating",
       "rate": null,
       "total": 50,
       "unit": "it",
       "unit_divisor": 1000,
       "unit_scale": false
      },
      "application/vnd.jupyter.widget-view+json": {
       "model_id": "45ab54ff3e2e42709a4123ed51ff6b8c",
       "version_major": 2,
       "version_minor": 0
      },
      "text/plain": [
       "Evaluating:   0%|          | 0/50 [00:00<?, ?it/s]"
      ]
     },
     "metadata": {},
     "output_type": "display_data"
    },
    {
     "name": "stdout",
     "output_type": "stream",
     "text": [
      "best!\n",
      "Epoch: 03\n",
      "\tTrain Loss: 0.502 | Train Acc: 100.00%\n",
      "\t Val. Loss: 0.460 |  Val. Acc: 100.00% | Val. Std 0.0\n"
     ]
    },
    {
     "data": {
      "application/json": {
       "ascii": false,
       "bar_format": null,
       "colour": null,
       "elapsed": 0.007153034210205078,
       "initial": 0,
       "n": 0,
       "ncols": null,
       "nrows": 49,
       "postfix": null,
       "prefix": "Training",
       "rate": null,
       "total": 10,
       "unit": "it",
       "unit_divisor": 1000,
       "unit_scale": false
      },
      "application/vnd.jupyter.widget-view+json": {
       "model_id": "8e29b0220eac4940af28c8d9642d3bc5",
       "version_major": 2,
       "version_minor": 0
      },
      "text/plain": [
       "Training:   0%|          | 0/10 [00:00<?, ?it/s]"
      ]
     },
     "metadata": {},
     "output_type": "display_data"
    },
    {
     "data": {
      "application/json": {
       "ascii": false,
       "bar_format": null,
       "colour": null,
       "elapsed": 0.007184028625488281,
       "initial": 0,
       "n": 0,
       "ncols": null,
       "nrows": 49,
       "postfix": null,
       "prefix": "Evaluating",
       "rate": null,
       "total": 50,
       "unit": "it",
       "unit_divisor": 1000,
       "unit_scale": false
      },
      "application/vnd.jupyter.widget-view+json": {
       "model_id": "107f25ab65b74eaabf5ee48b8f73ba1c",
       "version_major": 2,
       "version_minor": 0
      },
      "text/plain": [
       "Evaluating:   0%|          | 0/50 [00:00<?, ?it/s]"
      ]
     },
     "metadata": {},
     "output_type": "display_data"
    },
    {
     "name": "stdout",
     "output_type": "stream",
     "text": [
      "best!\n",
      "Epoch: 04\n",
      "\tTrain Loss: 0.424 | Train Acc: 100.00%\n",
      "\t Val. Loss: 0.383 |  Val. Acc: 100.00% | Val. Std 0.0\n"
     ]
    },
    {
     "data": {
      "application/json": {
       "ascii": false,
       "bar_format": null,
       "colour": null,
       "elapsed": 0.007004261016845703,
       "initial": 0,
       "n": 0,
       "ncols": null,
       "nrows": 49,
       "postfix": null,
       "prefix": "Training",
       "rate": null,
       "total": 10,
       "unit": "it",
       "unit_divisor": 1000,
       "unit_scale": false
      },
      "application/vnd.jupyter.widget-view+json": {
       "model_id": "4c4e69e0d8d145f9be6dc2cbb9cd93d0",
       "version_major": 2,
       "version_minor": 0
      },
      "text/plain": [
       "Training:   0%|          | 0/10 [00:00<?, ?it/s]"
      ]
     },
     "metadata": {},
     "output_type": "display_data"
    },
    {
     "data": {
      "application/json": {
       "ascii": false,
       "bar_format": null,
       "colour": null,
       "elapsed": 0.007218837738037109,
       "initial": 0,
       "n": 0,
       "ncols": null,
       "nrows": 49,
       "postfix": null,
       "prefix": "Evaluating",
       "rate": null,
       "total": 50,
       "unit": "it",
       "unit_divisor": 1000,
       "unit_scale": false
      },
      "application/vnd.jupyter.widget-view+json": {
       "model_id": "862d08a2be13427fadaf1fc32fc42865",
       "version_major": 2,
       "version_minor": 0
      },
      "text/plain": [
       "Evaluating:   0%|          | 0/50 [00:00<?, ?it/s]"
      ]
     },
     "metadata": {},
     "output_type": "display_data"
    },
    {
     "name": "stdout",
     "output_type": "stream",
     "text": [
      "best!\n",
      "Epoch: 05\n",
      "\tTrain Loss: 0.345 | Train Acc: 100.00%\n",
      "\t Val. Loss: 0.308 |  Val. Acc: 100.00% | Val. Std 0.0\n",
      "\t Val. Loss: 0.308 |  Val. Acc: 1.0 | Val. Std 0.0 | Train Acc: 1.000\n",
      "True\n"
     ]
    }
   ],
   "source": [
    "threshold=None\n",
    "condition = \"inequity_aversion\"\n",
    "with open(f\"{condition}_{threshold}.pkl\", \"rb\") as f:\n",
    "        pkldata = pkl.load(f)\n",
    "        train_data, test_data = np.array(pkldata[\"train\"]), np.array(pkldata[\"test\"])\n",
    "\n",
    "seed = 0\n",
    "random.seed(seed)\n",
    "np.random.seed(seed)\n",
    "torch.manual_seed(seed)\n",
    "torch.cuda.manual_seed(seed)\n",
    "torch.backends.cudnn.deterministic = True\n",
    "\n",
    "# normalize\n",
    "shifted_train_data = np.copy(train_data)\n",
    "shifted_train_data[:,:2] -= np.mean(train_data[:,:2],axis=0)\n",
    "shifted_train_data[:,:2] /= np.std(train_data[:,:2],axis=0)\n",
    "\n",
    "\n",
    "shifted_test_data = np.copy(test_data)\n",
    "shifted_test_data[:,:2] -= np.mean(test_data[:,:2],axis=0)\n",
    "shifted_test_data[:,:2] /= np.std(test_data[:,:2],axis=0)\n",
    "save_shifted_test_data = np.copy(shifted_test_data) # for debugging purposes\n",
    "\n",
    "shifted_train_data = [[[x[0], x[1]], x[2]] for x in shifted_train_data]\n",
    "shifted_test_data = [[[x[0], x[1]], x[2]] for x in shifted_test_data]\n",
    "\n",
    "\n",
    "train_iterator = data.DataLoader(shifted_train_data,\n",
    "                                shuffle=True,\n",
    "                                batch_size=1)\n",
    "test_iterator = data.DataLoader(shifted_test_data,\n",
    "                                shuffle=False,\n",
    "                                batch_size=1)\n",
    "\n",
    "to_save = main(train_iterator, test_iterator)\n",
    "predicted_labels = to_save[:, 2]\n",
    "\n",
    "# # assert that test data loader did not shuffle the test batch \n",
    "assert (np.all(np.around(to_save[:, :2],3) == np.around(save_shifted_test_data[:, :2],3)))\n",
    "sl_labeled_test_data = np.copy(test_data)\n",
    "correct_labels = np.copy(sl_labeled_test_data[:, 2])\n",
    "sl_labeled_test_data[:,2] = predicted_labels\n",
    "print(np.all(correct_labels == predicted_labels))\n",
    "\n",
    "#with open(f\"sl_responses/{condition}_{threshold}_train.pkl\", \"wb\") as f:\n",
    "#    pkl.dump({'test':sl_labeled_test_data}, f)"
   ]
  },
  {
   "cell_type": "code",
   "execution_count": null,
   "id": "2064f26f",
   "metadata": {},
   "outputs": [],
   "source": []
  },
  {
   "cell_type": "code",
   "execution_count": null,
   "id": "800e6f6e",
   "metadata": {},
   "outputs": [],
   "source": []
  }
 ],
 "metadata": {
  "kernelspec": {
   "display_name": "neg",
   "language": "python",
   "name": "python3"
  },
  "language_info": {
   "codemirror_mode": {
    "name": "ipython",
    "version": 3
   },
   "file_extension": ".py",
   "mimetype": "text/x-python",
   "name": "python",
   "nbconvert_exporter": "python",
   "pygments_lexer": "ipython3",
   "version": "3.8.13 | packaged by conda-forge | (default, Mar 25 2022, 06:05:16) \n[Clang 12.0.1 ]"
  },
  "vscode": {
   "interpreter": {
    "hash": "0054cf4bc0f0acb96206614c856cfb0d54dce0b844c2ee51a666f06493845228"
   }
  }
 },
 "nbformat": 4,
 "nbformat_minor": 5
}
